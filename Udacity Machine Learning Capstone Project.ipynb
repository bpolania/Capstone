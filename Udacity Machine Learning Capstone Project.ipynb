{
 "cells": [
  {
   "cell_type": "markdown",
   "metadata": {},
   "source": [
    "## Predicting Final Element in Digit Sequences Using Machine Learning\n",
    "***\n",
    "\n",
    "For many years’ scientists have been trying to discover new patterns in number sequences and developing formulas and theorems that describe the fundamentals of such patterns. Those sequences are not mere mathematical curiosities but powerful tools for many fields like number theory, combinatorics, and discrete mathematics.\n",
    "\n",
    "Currently there are many software applications that provide computational algebraic analysis and graphical capabilities that help scientist if their quests of finding and defining new sequences, at first glance it may seem like this symbiotic relation between man and machine will continue to be the main source of new sequences, unless a deeper level of analysis of how patterns arise can be achieved, so new sequences can be discovered based on a fundamental understanding of their nature instead of a one-to-one basis.\n",
    "\n",
    "In consequence there is a clear need of better tools for understanding how sequences behave and predict such behavior, and this is the problem I decided to tackle: predict the next number in a specific sequence based on how it behaves. For this I implemented a Logistic Regression using a dataset of integer sequences where I can create classifiers and features based on the behavior of the sequences, i.e. whether it contains zeroes or negatives, or the divisibility of the last digit. All this with the objective of generating an accuracy score to evaluate how good the algorithm predicts a subsequent digit in a sequence.\n",
    "\n",
    "For this solution we have used a subset of the OEIS dataset obtained from the Kaggle platform, it contains the majority of the integer sequences from the OEIS. It is split into a training set, where the full sequences are given, and a test set, where the last number from the sequence has been removed. The datasets were downloaded from the following link: https://www.kaggle.com/c/integer-sequence-learning/data. \n",
    "\n",
    "___\n",
    "\n",
    "Let's start by importing all the required libraries:\n"
   ]
  },
  {
   "cell_type": "code",
   "execution_count": 245,
   "metadata": {
    "collapsed": false,
    "scrolled": true
   },
   "outputs": [],
   "source": [
    "import csv\n",
    "import pandas as pd\n",
    "import numpy as np\n",
    "import random\n",
    "import matplotlib.pyplot as plt\n",
    "import statsmodels.api as sm\n",
    "import statsmodels.formula.api as smf\n",
    "from sklearn import metrics\n",
    "import math\n",
    "from decimal import Decimal\n",
    "import warnings\n",
    "\n",
    "warnings.filterwarnings('ignore')"
   ]
  },
  {
   "cell_type": "markdown",
   "metadata": {},
   "source": [
    "Then we load the training set into a Pandas dataset, we count the number of sequences in both train and test datasets and print it:"
   ]
  },
  {
   "cell_type": "code",
   "execution_count": 219,
   "metadata": {
    "collapsed": false
   },
   "outputs": [
    {
     "name": "stdout",
     "output_type": "stream",
     "text": [
      "113846 113846\n"
     ]
    }
   ],
   "source": [
    "# load training and test data into a Pandas Dataframe \n",
    "train = pd.read_csv('inputs/train.csv')\n",
    "train_sequences = train.Sequence.str.split(',')\n",
    "test = pd.read_csv('inputs/test.csv')\n",
    "test_sequences = test.Sequence.str.split(',')\n",
    "\n",
    "# this method count lines in in a file\n",
    "def count_lines(fname):\n",
    "    with open(fname) as f:\n",
    "        for i, l in enumerate(f):\n",
    "            pass\n",
    "    return i + 1\n",
    "\n",
    "# count number of sequences\n",
    "number_of_lines_in_train_set = count_lines('inputs/train.csv')\n",
    "number_of_lines_in_test_set = count_lines('inputs/test.csv')\n",
    "print number_of_lines_in_train_set, number_of_lines_in_test_set"
   ]
  },
  {
   "cell_type": "markdown",
   "metadata": {},
   "source": [
    "First we build a classifier to predict if the final element will be the most frequent final element of each sequence in the training set.\n",
    "\n",
    "---\n",
    "\n",
    "Let's find the most frequent final element and print it."
   ]
  },
  {
   "cell_type": "code",
   "execution_count": 220,
   "metadata": {
    "collapsed": false
   },
   "outputs": [
    {
     "name": "stdout",
     "output_type": "stream",
     "text": [
      "1\n"
     ]
    }
   ],
   "source": [
    "# this method gets the final element on the list, the tail\n",
    "def tail(list):\n",
    "    return list[-1]\n",
    "\n",
    "# get all the final elements into an array\n",
    "train_final_elements = train_sequences.apply(tail)\n",
    "test_final_elements = test_sequences.apply(tail)\n",
    "#get the most frequent final element and print it\n",
    "most_frequent_final_element = train_final_elements.value_counts().index.tolist()[0]\n",
    "print most_frequent_final_element"
   ]
  },
  {
   "cell_type": "markdown",
   "metadata": {},
   "source": [
    "Get the indices of the lines of the dataset that are useful into an array"
   ]
  },
  {
   "cell_type": "code",
   "execution_count": 231,
   "metadata": {
    "collapsed": true
   },
   "outputs": [],
   "source": [
    "training_indices = np.int64(range(0,number_of_lines_in_train_set-1))\n",
    "test_indices = np.int64(range(0,number_of_lines_in_test_set-1))"
   ]
  },
  {
   "cell_type": "markdown",
   "metadata": {},
   "source": [
    "Now we create a classifier and the features using the training set.\n",
    "***\n",
    "\n",
    "First we write the methods we need to create the features."
   ]
  },
  {
   "cell_type": "code",
   "execution_count": 222,
   "metadata": {
    "collapsed": true
   },
   "outputs": [],
   "source": [
    "# this method creates the final_element_count feature,\n",
    "# that returns how frequent is final element in a sequence\n",
    "\"\"\"        \n",
    ":Pandas.series sequence: sequence of numbers\n",
    ":return integer: how frequent is final element in sequence\n",
    "\"\"\"\n",
    "def how_frequent_is_final_element_in_sequence(sequence):\n",
    "    result = 0\n",
    "    for element in sequence[:-1]:\n",
    "        if element == most_frequent_final_element:\n",
    "            result += 1\n",
    "    return result\n",
    "\n",
    "# this method creates the max feature,\n",
    "# that returns the maximum value in a sequence\n",
    "\"\"\"        \n",
    ":Pandas.series sequence: sequence of numbers\n",
    ":return integer: maximum value in sequence\n",
    "\"\"\"\n",
    "def maximum_value_in_sequence(sequence):\n",
    "    if sequence[:-1]:\n",
    "        return max(list(map(int, sequence[:-1])))\n",
    "    else:\n",
    "        return None\n",
    "    \n",
    "# this method creates the negatives feature,\n",
    "# that returns if there are negative values in a sequence\n",
    "\"\"\"        \n",
    ":Pandas.series sequence: sequence of numbers\n",
    ":return boolean: is there a negative value in sequence\n",
    "\"\"\"\n",
    "def are_there_negative_values_in_sequence(sequence):\n",
    "    matching = sum(1 for number in map(int, sequence[:-1]) if number < 0)\n",
    "    if matching > 0:\n",
    "        return True\n",
    "    else:\n",
    "        return False\n",
    "\n",
    "# this method creates the zeroes feature,\n",
    "# that returns if there are zero values in a sequence\n",
    "\"\"\"        \n",
    ":Pandas.series sequence: sequence of numbers\n",
    ":return boolean: is there a zero value in sequence\n",
    "\"\"\"\n",
    "def are_there_any_zeroes_in_sequence(sequence):\n",
    "    if 0 in map(int, sequence[:-1]):\n",
    "        return True\n",
    "    else:\n",
    "        return False\n",
    "    \n",
    "# this method creates the even_odd_match feature,\n",
    "# that returns if the final element divisibility by two matches that of the majority \n",
    "# of the numbers of the sequence\n",
    "\"\"\"        \n",
    ":Pandas.series sequence: sequence of numbers\n",
    ":return boolean: does the final element divisibility by two matches that of the majority of the numbers of the sequence\n",
    "\"\"\"\n",
    "def even_odd_match_in_sequence(sequence):\n",
    "    matching = sum(1 for number in map(int, sequence[:-1]) if number % 2 == int(most_frequent_final_element) % 2)\n",
    "    unmatching = len(sequence[:-1]) - matching\n",
    "    if matching > unmatching:\n",
    "        return True\n",
    "    else:\n",
    "        return False"
   ]
  },
  {
   "cell_type": "markdown",
   "metadata": {},
   "source": [
    "and the method we'll need to categorize features"
   ]
  },
  {
   "cell_type": "code",
   "execution_count": 223,
   "metadata": {
    "collapsed": true
   },
   "outputs": [],
   "source": [
    "# this methods creates a categorized version of a feature\n",
    "\"\"\"        \n",
    ":Pandas.dataframe features: dataframe with all the features\n",
    ":String new_feature_name: the name of the new feature\n",
    ":String feature_name: the name of the feature we need to categorize\n",
    ":return void\n",
    "\"\"\"\n",
    "def create_categorized_version_of_feature(features,new_feature_name,feature_name):\n",
    "    features[new_feature_name] = \"First Level\"\n",
    "    features[new_feature_name][(features[feature_name] >= features[feature_name].quantile(.25)) & (features[feature_name]< features[feature_name].quantile(.5))] = \"Second Level\"\n",
    "    features[new_feature_name][(features[feature_name] >= features[feature_name].quantile(.5)) & (features[feature_name]< features[feature_name].quantile(.75))] = \"Third Level\"\n",
    "    features[new_feature_name][(features[feature_name] >= features[feature_name].quantile(.75))] = \"Fourth Level\"\n",
    "    features[new_feature_name] = features[new_feature_name].astype(\"category\", categories=[\"First Level\",\"Second Level\", \"Third Level\",\"Fourth Level\"], ordered=True)\n"
   ]
  },
  {
   "cell_type": "markdown",
   "metadata": {},
   "source": [
    "finally we can now create a Pandas dataframe with all the features"
   ]
  },
  {
   "cell_type": "code",
   "execution_count": 246,
   "metadata": {
    "collapsed": false
   },
   "outputs": [],
   "source": [
    "# Create features dataframe with all the features for the training dataset\n",
    "features = pd.DataFrame({'final_element_count':train_sequences[training_indices].apply(how_frequent_is_final_element_in_sequence),\n",
    "                       'negatives':train_sequences[training_indices].apply(are_there_negative_values_in_sequence),\n",
    "                       'zeroes':train_sequences[training_indices].apply(are_there_any_zeroes_in_sequence),\n",
    "                       'max':train_sequences[training_indices].apply(maximum_value_in_sequence),\n",
    "                       'even_odd_match' : train_sequences[training_indices].apply(even_odd_match_in_sequence),\n",
    "                       'features_class':train_final_elements[training_indices] == most_frequent_final_element,\n",
    "                       })\n",
    "\n",
    "# Categorized 'max' feature\n",
    "create_categorized_version_of_feature(features,'max_categorized','max')\n",
    "\n",
    "# Featrues Class feature (this is the dependent variable)\n",
    "features['features_class'] = train_final_elements[training_indices] == most_frequent_final_element"
   ]
  },
  {
   "cell_type": "markdown",
   "metadata": {},
   "source": [
    "## Plotting\n",
    "\n",
    "For visualization purposes some of the features are categorized and then plotted using the plotPredictibility method.\n",
    "***\n",
    "\n",
    "First we create the method for plotting the features"
   ]
  },
  {
   "cell_type": "code",
   "execution_count": 232,
   "metadata": {
    "collapsed": true
   },
   "outputs": [],
   "source": [
    "# This method receive information about the information to be plotted and\n",
    "# the format of such information, it transform numeric data to scientific notation\n",
    "# if necessary, and formats the x axis labels, before plotting the feature\n",
    "\"\"\"        \n",
    ":Pandas.Series x_quantiles: y axis values\n",
    ":Pandas.Series class_probabilities: x axis values\n",
    ":Boolean labels: indicates if the x axis ticks will have labels\n",
    ":Boolean numeric: indicates if the values for x are numeric\n",
    ":Boolean boolean: indicates if the values for x are boolean\n",
    ":return void\n",
    "\"\"\"\n",
    "def plot_predictibility(x_quantiles,class_probabilities,y_label,x_label,labels=False,numeric=False,boolean=False):\n",
    "    plt.plot(range(0,len(x_quantiles)),class_probabilities, 'ro')\n",
    "    plt.xlabel(x_label)\n",
    "    plt.ylabel(y_label)\n",
    "    x_labels = None\n",
    "    if numeric == True:\n",
    "        formatting_function = np.vectorize(lambda f: format(f, '6.3E'))\n",
    "        x_labels = formatting_function(class_probabilities)\n",
    "    else:\n",
    "        x_labels = class_probabilities\n",
    "    if labels == True:\n",
    "        plt.xticks(range(0,len(x_quantiles)), x_labels, rotation='vertical')\n",
    "    if boolean == True:\n",
    "        plt.xticks(range(0,len(x_quantiles)), [True,False], rotation='vertical')\n",
    "    plt.show()"
   ]
  },
  {
   "cell_type": "markdown",
   "metadata": {},
   "source": [
    "now we plot the features"
   ]
  },
  {
   "cell_type": "code",
   "execution_count": 233,
   "metadata": {
    "collapsed": false
   },
   "outputs": [
    {
     "data": {
      "image/png": "[encoded data removed]",
      "text/plain": [
       "<matplotlib.figure.Figure at 0x12d0461d0>"
      ]
     },
     "metadata": {},
     "output_type": "display_data"
    }
   ],
   "source": [
    "# How predictive is final_element_count feature?\n",
    "def number_of_ocurrences_of_element_in_sequence(count):\n",
    "    return (train_final_elements[training_indices][features['final_element_count']==count]==most_frequent_final_element).mean()\n",
    "\n",
    "max_count_of_element = features['final_element_count'].max()\n",
    "class_probabilities = pd.Series(range(0,max_count_of_element)).apply(number_of_ocurrences_of_element_in_sequence)\n",
    "plot_predictibility(range(0,max_count_of_element),class_probabilities,\"Probability that Final Element is \" + most_frequent_final_element,\"Number of \" + most_frequent_final_element + \"s in the Sequence\")"
   ]
  },
  {
   "cell_type": "code",
   "execution_count": 243,
   "metadata": {
    "collapsed": false
   },
   "outputs": [
    {
     "name": "stdout",
     "output_type": "stream",
     "text": [
      "113789 113789\n"
     ]
    },
    {
     "data": {
      "image/png": "[encoded data removed]",
      "text/plain": [
       "<matplotlib.figure.Figure at 0x12b88a850>"
      ]
     },
     "metadata": {},
     "output_type": "display_data"
    }
   ],
   "source": [
    "# How predictive is max feature?\n",
    "# Categorizing is made for the sake of visualization\n",
    "def final_elements_by_category(elements):\n",
    "    return (elements == most_frequent_final_element).mean()\n",
    "\n",
    "categories = pd.cut(map(float, features['max'].dropna()),features['max'].dropna().quantile(np.arange(0,1.1,0.1)))\n",
    "class_probabilities = train_final_elements[training_indices][56:].groupby(categories).apply(final_elements_by_category)\n",
    "plot_predictibility(categories.categories,class_probabilities,\"Probability that Final Element is \" + most_frequent_final_element,\"Maximum Value in Sequence\",True,True)"
   ]
  },
  {
   "cell_type": "code",
   "execution_count": 235,
   "metadata": {
    "collapsed": false
   },
   "outputs": [
    {
     "data": {
      "image/png": "[encoded data removed]",
      "text/plain": [
       "<matplotlib.figure.Figure at 0x12ad0c050>"
      ]
     },
     "metadata": {},
     "output_type": "display_data"
    }
   ],
   "source": [
    "# How predictive is negatives feature?\n",
    "class_probabilities = [(train_final_elements[training_indices][features['negatives']]==most_frequent_final_element).mean(),(train_final_elements[training_indices][~features['negatives']]==most_frequent_final_element).mean()]\n",
    "plot_predictibility(range(0,len(class_probabilities)),class_probabilities,\"Probability that Final Element is \" + most_frequent_final_element,\"Does Sequence has a negative number?\",boolean=True)"
   ]
  },
  {
   "cell_type": "code",
   "execution_count": 236,
   "metadata": {
    "collapsed": false
   },
   "outputs": [
    {
     "data": {
      "image/png": "[encoded data removed]",
      "text/plain": [
       "<matplotlib.figure.Figure at 0x12b6d2110>"
      ]
     },
     "metadata": {},
     "output_type": "display_data"
    }
   ],
   "source": [
    "# How predictive is even_odd_match feature?\n",
    "class_probabilities = [(train_final_elements[training_indices][features['even_odd_match']]==most_frequent_final_element).mean(),(train_final_elements[training_indices][~features['even_odd_match']]==most_frequent_final_element).mean()]\n",
    "plot_predictibility(range(0,len(class_probabilities)),class_probabilities,\"Probability that Final Element is \" + most_frequent_final_element,\"Does Two Divisibility Matches?\",boolean=True)"
   ]
  },
  {
   "cell_type": "markdown",
   "metadata": {},
   "source": [
    "## Fitting and Predicting\n",
    "\n",
    "Now we use a Logistic regression to fit the data"
   ]
  },
  {
   "cell_type": "code",
   "execution_count": 225,
   "metadata": {
    "collapsed": false
   },
   "outputs": [
    {
     "name": "stdout",
     "output_type": "stream",
     "text": [
      "                                 Generalized Linear Model Regression Results                                 \n",
      "=============================================================================================================\n",
      "Dep. Variable:     ['features_class[False]', 'features_class[True]']   No. Observations:               113845\n",
      "Model:                                                           GLM   Df Residuals:                   113837\n",
      "Model Family:                                               Binomial   Df Model:                            7\n",
      "Link Function:                                                 logit   Scale:                             1.0\n",
      "Method:                                                         IRLS   Log-Likelihood:                -11542.\n",
      "Date:                                               Sun, 18 Dec 2016   Deviance:                       23084.\n",
      "Time:                                                       23:57:32   Pearson chi2:                 6.77e+04\n",
      "No. Iterations:                                                   12                                         \n",
      "===================================================================================================\n",
      "                                      coef    std err          z      P>|z|      [95.0% Conf. Int.]\n",
      "---------------------------------------------------------------------------------------------------\n",
      "Intercept                           3.9016      0.049     79.232      0.000         3.805     3.998\n",
      "max_categorized[T.Second Level]     0.2204      0.052      4.220      0.000         0.118     0.323\n",
      "max_categorized[T.Third Level]      0.7045      0.063     11.230      0.000         0.582     0.827\n",
      "max_categorized[T.Fourth Level]     2.9226      0.166     17.634      0.000         2.598     3.247\n",
      "negatives[T.True]                  -0.7499      0.061    -12.353      0.000        -0.869    -0.631\n",
      "zeroes[T.True]                     -0.3328      0.043     -7.754      0.000        -0.417    -0.249\n",
      "even_odd_match[T.True]              0.0268      0.041      0.649      0.516        -0.054     0.108\n",
      "final_element_count                -0.0877      0.001    -68.523      0.000        -0.090    -0.085\n",
      "===================================================================================================\n"
     ]
    }
   ],
   "source": [
    "# Fit the model using a logistic regression and print the result\n",
    "fit = smf.glm(formula=\"features_class ~ final_element_count + max_categorized + negatives + zeroes + even_odd_match\", family=sm.families.Binomial(), data=features).fit()\n",
    "print fit.summary()"
   ]
  },
  {
   "cell_type": "markdown",
   "metadata": {},
   "source": [
    "Now we creates the features for the test dataset"
   ]
  },
  {
   "cell_type": "code",
   "execution_count": 227,
   "metadata": {
    "collapsed": false
   },
   "outputs": [
    {
     "name": "stderr",
     "output_type": "stream",
     "text": [
      "/Users/bpolania/anaconda/envs/python2/lib/python2.7/site-packages/ipykernel/__main__.py:10: SettingWithCopyWarning: \n",
      "A value is trying to be set on a copy of a slice from a DataFrame\n",
      "\n",
      "See the caveats in the documentation: http://pandas.pydata.org/pandas-docs/stable/indexing.html#indexing-view-versus-copy\n",
      "/Users/bpolania/anaconda/envs/python2/lib/python2.7/site-packages/ipykernel/__main__.py:11: SettingWithCopyWarning: \n",
      "A value is trying to be set on a copy of a slice from a DataFrame\n",
      "\n",
      "See the caveats in the documentation: http://pandas.pydata.org/pandas-docs/stable/indexing.html#indexing-view-versus-copy\n",
      "/Users/bpolania/anaconda/envs/python2/lib/python2.7/site-packages/ipykernel/__main__.py:12: SettingWithCopyWarning: \n",
      "A value is trying to be set on a copy of a slice from a DataFrame\n",
      "\n",
      "See the caveats in the documentation: http://pandas.pydata.org/pandas-docs/stable/indexing.html#indexing-view-versus-copy\n"
     ]
    }
   ],
   "source": [
    "# Create features dataframe with all the features for the test dataset\n",
    "features = pd.DataFrame({'final_element_count':test_sequences[test_indices].apply(how_frequent_is_final_element_in_sequence),\n",
    "                       'negatives':test_sequences[test_indices].apply(are_there_negative_values_in_sequence),\n",
    "                       'zeroes':test_sequences[test_indices].apply(are_there_any_zeroes_in_sequence),\n",
    "                       'max':test_sequences[test_indices].apply(maximum_value_in_sequence),\n",
    "                       'even_odd_match' : test_sequences[test_indices].apply(even_odd_match_in_sequence),\n",
    "                       'features_class':test_final_elements[test_indices] == most_frequent_final_element,\n",
    "                       })\n",
    "\n",
    "# Categorized 'max' feature\n",
    "create_categorized_version_of_feature(features,'max_categorized','max')"
   ]
  },
  {
   "cell_type": "markdown",
   "metadata": {},
   "source": [
    "Finally we make a prediction and get and AUC Score"
   ]
  },
  {
   "cell_type": "code",
   "execution_count": 228,
   "metadata": {
    "collapsed": false
   },
   "outputs": [
    {
     "name": "stdout",
     "output_type": "stream",
     "text": [
      "0.950483345333\n"
     ]
    }
   ],
   "source": [
    "# make prediction based on the fit date\n",
    "predictions = fit.predict(features)\n",
    "\n",
    "# Get AUC ROC for the prediction\n",
    "prediction = (1 - metrics.roc_auc_score(features['features_class'],predictions))\n",
    "\n",
    "print prediction"
   ]
  }
 ],
 "metadata": {
  "anaconda-cloud": {},
  "kernelspec": {
   "display_name": "Python [conda env:python2]",
   "language": "python",
   "name": "conda-env-python2-py"
  },
  "language_info": {
   "codemirror_mode": {
    "name": "ipython",
    "version": 2
   },
   "file_extension": ".py",
   "mimetype": "text/x-python",
   "name": "python",
   "nbconvert_exporter": "python",
   "pygments_lexer": "ipython2",
   "version": "2.7.12"
  }
 },
 "nbformat": 4,
 "nbformat_minor": 1
}
